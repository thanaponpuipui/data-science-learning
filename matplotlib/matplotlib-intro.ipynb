{
 "cells": [
  {
   "cell_type": "markdown",
   "metadata": {},
   "source": [
    "## Introduction to matplotlib"
   ]
  },
  {
   "cell_type": "code",
   "execution_count": 1,
   "metadata": {},
   "outputs": [],
   "source": [
    "# import matplotlib pyplot\n",
    "import matplotlib.pyplot as plt\n",
    "\n",
    "# use numpy and panda\n",
    "import numpy as np\n",
    "import pandas as pd"
   ]
  },
  {
   "cell_type": "code",
   "execution_count": 2,
   "metadata": {},
   "outputs": [
    {
     "data": {
      "text/plain": [
       "array([[ 8, 32,  1,  0],\n",
       "       [20,  9,  2, 32],\n",
       "       [ 9, 22, 10, 36],\n",
       "       [15, 12, 16, 29],\n",
       "       [22, 30, 24, 19],\n",
       "       [ 7, 19, 21, 18],\n",
       "       [13,  9, 10, 27]], dtype=int16)"
      ]
     },
     "execution_count": 2,
     "metadata": {},
     "output_type": "execute_result"
    }
   ],
   "source": [
    "# create Data Frame of soda pop sales of the week\n",
    "# random number of sales\n",
    "daily_sales_week = np.random.randint(40, size=(7, 4), dtype=np.int16)\n",
    "daily_sales_week"
   ]
  },
  {
   "cell_type": "code",
   "execution_count": null,
   "metadata": {},
   "outputs": [],
   "source": []
  }
 ],
 "metadata": {
  "kernelspec": {
   "display_name": "Python 3",
   "language": "python",
   "name": "python3"
  },
  "language_info": {
   "codemirror_mode": {
    "name": "ipython",
    "version": 3
   },
   "file_extension": ".py",
   "mimetype": "text/x-python",
   "name": "python",
   "nbconvert_exporter": "python",
   "pygments_lexer": "ipython3",
   "version": "3.8.3"
  }
 },
 "nbformat": 4,
 "nbformat_minor": 4
}
